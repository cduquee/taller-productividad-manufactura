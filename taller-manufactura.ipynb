{
  "cells": [
    {
      "cell_type": "markdown",
      "metadata": {},
      "source": [
        "<style>\n",
        "    h1 {\n",
        "    font-family: 'Segoe UI Semibold';\n",
        "    font-size: 35px;\n",
        "    text-align: center;\n",
        "  }\n",
        "</style>\n",
        "\n",
        "# Taller Análitica: Productividad en Manufactura"
      ]
    },
    {
      "cell_type": "markdown",
      "metadata": {},
      "source": [
        "<style>\n",
        "  .image {\n",
        "            overflow: hidden;\n",
        "            width: 100%;\n",
        "            border-radius: 20px;\n",
        "            object-fit: cover;\n",
        "        }\n",
        "  .container {\n",
        "            width: 100%;\n",
        "            height: auto;\n",
        "        }\n",
        " \n",
        "</style>\n",
        "<div class=\"container\">\n",
        "    <img src= \"img\\production-line2.png\" class=\"image\"/>\n",
        "</div>"
      ]
    },
    {
      "cell_type": "markdown",
      "metadata": {},
      "source": [
        "<style>\n",
        "  p {\n",
        "    font-family: 'Segoe UI Light';\n",
        "    font-size: 20px;\n",
        "    text-align: center;\n",
        "  }\n",
        "</style>\n",
        "\n",
        "<div style=\"text-align: center;\">\n",
        "  Analítica de Datos <br>\n",
        "  Universidad de los Andes & Instituto Tecnólogico de Monterrey &copy; 2024 <br>\n",
        "  11 de octubre de 2024 <br><br>\n",
        "  <strong>GRUPO 7:</strong> <br>\n",
        "  Camilo Duque - 202024289 (uniandes)<br>\n",
        "  Daniela Espinosa - 202022615 (uniandes)<br>\n",
        "  Emilio Fernández - (TEC)<br>\n",
        "</div>\n"
      ]
    },
    {
      "cell_type": "markdown",
      "metadata": {},
      "source": [
        "## **Tarea 1**\n",
        "\n",
        "Determine la pregunta (o preguntas) de negocio que quiere resolver para su cliente\n",
        "seleccionado. Identifique como puede resolver estas preguntas a traves de visualizaciones\n",
        "de los datos (descriptivo) y un modelo predictivo (idealmente de regresion, pero tambien\n",
        "puede ser de clasificacion).\n"
      ]
    },
    {
      "cell_type": "code",
      "execution_count": null,
      "metadata": {},
      "outputs": [],
      "source": []
    },
    {
      "cell_type": "markdown",
      "metadata": {},
      "source": [
        "## **Tarea 2**\n",
        "Cargue los datos en python, explore los datos disponibles y realice una limpieza cuidadosa. Identifique datos faltantes, inconsistencias, datos duplicados y decida una estrategia para su gestion. Asegurese de que los datos queden en un formato que permita su posterior analisis. Documente los procedimientos realizados.\n"
      ]
    },
    {
      "cell_type": "markdown",
      "metadata": {},
      "source": [
        "\n",
        "### **Cargar Librerias**"
      ]
    },
    {
      "cell_type": "code",
      "execution_count": 22,
      "metadata": {
        "id": "_WuThElM6Q51"
      },
      "outputs": [],
      "source": [
        "import pandas as pd\n",
        "import numpy as np\n",
        "import seaborn as sns\n",
        "import matplotlib.pyplot as plt\n",
        "import matplotlib as pyplot"
      ]
    },
    {
      "cell_type": "code",
      "execution_count": 23,
      "metadata": {
        "id": "aWFdQ4gSBcYc"
      },
      "outputs": [],
      "source": [
        "data = pd.read_csv('productividad.csv', sep=\";\")"
      ]
    },
    {
      "cell_type": "code",
      "execution_count": 24,
      "metadata": {},
      "outputs": [
        {
          "data": {
            "text/plain": [
              "(1197, 15)"
            ]
          },
          "execution_count": 24,
          "metadata": {},
          "output_type": "execute_result"
        }
      ],
      "source": [
        "data.shape"
      ]
    },
    {
      "cell_type": "code",
      "execution_count": 25,
      "metadata": {
        "colab": {
          "base_uri": "https://localhost:8080/"
        },
        "id": "Pr9gOHFirjoY",
        "outputId": "b79ca891-8659-4bac-c0a8-26d3e26ec9f1"
      },
      "outputs": [
        {
          "name": "stdout",
          "output_type": "stream",
          "text": [
            "<class 'pandas.core.frame.DataFrame'>\n",
            "RangeIndex: 1197 entries, 0 to 1196\n",
            "Data columns (total 15 columns):\n",
            " #   Column                 Non-Null Count  Dtype  \n",
            "---  ------                 --------------  -----  \n",
            " 0   date                   1197 non-null   object \n",
            " 1   quarter                1197 non-null   object \n",
            " 2   department             1197 non-null   object \n",
            " 3   day                    1197 non-null   object \n",
            " 4   team                   1197 non-null   int64  \n",
            " 5   targeted_productivity  1197 non-null   float64\n",
            " 6   smv                    1197 non-null   float64\n",
            " 7   wip                    691 non-null    float64\n",
            " 8   over_time              1197 non-null   int64  \n",
            " 9   incentive              1197 non-null   int64  \n",
            " 10  idle_time              1197 non-null   float64\n",
            " 11  idle_men               1197 non-null   int64  \n",
            " 12  no_of_style_change     1197 non-null   int64  \n",
            " 13  no_of_workers          1197 non-null   float64\n",
            " 14  actual_productivity    1197 non-null   object \n",
            "dtypes: float64(5), int64(5), object(5)\n",
            "memory usage: 140.4+ KB\n"
          ]
        }
      ],
      "source": [
        "data.info()"
      ]
    },
    {
      "cell_type": "code",
      "execution_count": 26,
      "metadata": {
        "colab": {
          "base_uri": "https://localhost:8080/",
          "height": 206
        },
        "id": "wPF3jntDCpVb",
        "outputId": "729aab30-e7c9-4937-db36-fd056f6e814d"
      },
      "outputs": [
        {
          "data": {
            "text/html": [
              "<div>\n",
              "<style scoped>\n",
              "    .dataframe tbody tr th:only-of-type {\n",
              "        vertical-align: middle;\n",
              "    }\n",
              "\n",
              "    .dataframe tbody tr th {\n",
              "        vertical-align: top;\n",
              "    }\n",
              "\n",
              "    .dataframe thead th {\n",
              "        text-align: right;\n",
              "    }\n",
              "</style>\n",
              "<table border=\"1\" class=\"dataframe\">\n",
              "  <thead>\n",
              "    <tr style=\"text-align: right;\">\n",
              "      <th></th>\n",
              "      <th>date</th>\n",
              "      <th>quarter</th>\n",
              "      <th>department</th>\n",
              "      <th>day</th>\n",
              "      <th>team</th>\n",
              "      <th>targeted_productivity</th>\n",
              "      <th>smv</th>\n",
              "      <th>wip</th>\n",
              "      <th>over_time</th>\n",
              "      <th>incentive</th>\n",
              "      <th>idle_time</th>\n",
              "      <th>idle_men</th>\n",
              "      <th>no_of_style_change</th>\n",
              "      <th>no_of_workers</th>\n",
              "      <th>actual_productivity</th>\n",
              "    </tr>\n",
              "  </thead>\n",
              "  <tbody>\n",
              "    <tr>\n",
              "      <th>0</th>\n",
              "      <td>1/01/2015</td>\n",
              "      <td>Quarter1</td>\n",
              "      <td>sweing</td>\n",
              "      <td>Thursday</td>\n",
              "      <td>8</td>\n",
              "      <td>0.80</td>\n",
              "      <td>26.16</td>\n",
              "      <td>1108.0</td>\n",
              "      <td>7080</td>\n",
              "      <td>98</td>\n",
              "      <td>0.0</td>\n",
              "      <td>0</td>\n",
              "      <td>0</td>\n",
              "      <td>59.0</td>\n",
              "      <td>0.940725424</td>\n",
              "    </tr>\n",
              "    <tr>\n",
              "      <th>1</th>\n",
              "      <td>1/01/2015</td>\n",
              "      <td>Quarter1</td>\n",
              "      <td>finishing</td>\n",
              "      <td>Thursday</td>\n",
              "      <td>1</td>\n",
              "      <td>0.75</td>\n",
              "      <td>3.94</td>\n",
              "      <td>NaN</td>\n",
              "      <td>960</td>\n",
              "      <td>0</td>\n",
              "      <td>0.0</td>\n",
              "      <td>0</td>\n",
              "      <td>0</td>\n",
              "      <td>8.0</td>\n",
              "      <td>0.8865</td>\n",
              "    </tr>\n",
              "    <tr>\n",
              "      <th>2</th>\n",
              "      <td>1/01/2015</td>\n",
              "      <td>Quarter1</td>\n",
              "      <td>sweing</td>\n",
              "      <td>Thursday</td>\n",
              "      <td>11</td>\n",
              "      <td>0.80</td>\n",
              "      <td>11.41</td>\n",
              "      <td>968.0</td>\n",
              "      <td>3660</td>\n",
              "      <td>50</td>\n",
              "      <td>0.0</td>\n",
              "      <td>0</td>\n",
              "      <td>0</td>\n",
              "      <td>30.5</td>\n",
              "      <td>0.800570492</td>\n",
              "    </tr>\n",
              "    <tr>\n",
              "      <th>3</th>\n",
              "      <td>1/01/2015</td>\n",
              "      <td>Quarter1</td>\n",
              "      <td>sweing</td>\n",
              "      <td>Thursday</td>\n",
              "      <td>12</td>\n",
              "      <td>0.80</td>\n",
              "      <td>11.41</td>\n",
              "      <td>968.0</td>\n",
              "      <td>3660</td>\n",
              "      <td>50</td>\n",
              "      <td>0.0</td>\n",
              "      <td>0</td>\n",
              "      <td>0</td>\n",
              "      <td>30.5</td>\n",
              "      <td>0.800570492</td>\n",
              "    </tr>\n",
              "    <tr>\n",
              "      <th>4</th>\n",
              "      <td>1/01/2015</td>\n",
              "      <td>Quarter1</td>\n",
              "      <td>sweing</td>\n",
              "      <td>Thursday</td>\n",
              "      <td>6</td>\n",
              "      <td>0.80</td>\n",
              "      <td>25.90</td>\n",
              "      <td>1170.0</td>\n",
              "      <td>1920</td>\n",
              "      <td>50</td>\n",
              "      <td>0.0</td>\n",
              "      <td>0</td>\n",
              "      <td>0</td>\n",
              "      <td>56.0</td>\n",
              "      <td>0.800381944</td>\n",
              "    </tr>\n",
              "  </tbody>\n",
              "</table>\n",
              "</div>"
            ],
            "text/plain": [
              "        date   quarter  department       day  team  targeted_productivity  \\\n",
              "0  1/01/2015  Quarter1      sweing  Thursday     8                   0.80   \n",
              "1  1/01/2015  Quarter1  finishing   Thursday     1                   0.75   \n",
              "2  1/01/2015  Quarter1      sweing  Thursday    11                   0.80   \n",
              "3  1/01/2015  Quarter1      sweing  Thursday    12                   0.80   \n",
              "4  1/01/2015  Quarter1      sweing  Thursday     6                   0.80   \n",
              "\n",
              "     smv     wip  over_time  incentive  idle_time  idle_men  \\\n",
              "0  26.16  1108.0       7080         98        0.0         0   \n",
              "1   3.94     NaN        960          0        0.0         0   \n",
              "2  11.41   968.0       3660         50        0.0         0   \n",
              "3  11.41   968.0       3660         50        0.0         0   \n",
              "4  25.90  1170.0       1920         50        0.0         0   \n",
              "\n",
              "   no_of_style_change  no_of_workers actual_productivity  \n",
              "0                   0           59.0         0.940725424  \n",
              "1                   0            8.0              0.8865  \n",
              "2                   0           30.5         0.800570492  \n",
              "3                   0           30.5         0.800570492  \n",
              "4                   0           56.0         0.800381944  "
            ]
          },
          "execution_count": 26,
          "metadata": {},
          "output_type": "execute_result"
        }
      ],
      "source": [
        "data.head()"
      ]
    },
    {
      "cell_type": "code",
      "execution_count": 27,
      "metadata": {
        "colab": {
          "base_uri": "https://localhost:8080/",
          "height": 300
        },
        "id": "kGRQrfUYEv0P",
        "outputId": "e1fc3a86-8a4d-4706-e8d5-2da2286d3cc7"
      },
      "outputs": [
        {
          "data": {
            "text/html": [
              "<div>\n",
              "<style scoped>\n",
              "    .dataframe tbody tr th:only-of-type {\n",
              "        vertical-align: middle;\n",
              "    }\n",
              "\n",
              "    .dataframe tbody tr th {\n",
              "        vertical-align: top;\n",
              "    }\n",
              "\n",
              "    .dataframe thead th {\n",
              "        text-align: right;\n",
              "    }\n",
              "</style>\n",
              "<table border=\"1\" class=\"dataframe\">\n",
              "  <thead>\n",
              "    <tr style=\"text-align: right;\">\n",
              "      <th></th>\n",
              "      <th>team</th>\n",
              "      <th>targeted_productivity</th>\n",
              "      <th>smv</th>\n",
              "      <th>wip</th>\n",
              "      <th>over_time</th>\n",
              "      <th>incentive</th>\n",
              "      <th>idle_time</th>\n",
              "      <th>idle_men</th>\n",
              "      <th>no_of_style_change</th>\n",
              "      <th>no_of_workers</th>\n",
              "    </tr>\n",
              "  </thead>\n",
              "  <tbody>\n",
              "    <tr>\n",
              "      <th>count</th>\n",
              "      <td>1197.000000</td>\n",
              "      <td>1197.000000</td>\n",
              "      <td>1197.000000</td>\n",
              "      <td>691.000000</td>\n",
              "      <td>1197.000000</td>\n",
              "      <td>1197.000000</td>\n",
              "      <td>1197.000000</td>\n",
              "      <td>1197.000000</td>\n",
              "      <td>1197.000000</td>\n",
              "      <td>1197.000000</td>\n",
              "    </tr>\n",
              "    <tr>\n",
              "      <th>mean</th>\n",
              "      <td>6.426901</td>\n",
              "      <td>0.729632</td>\n",
              "      <td>15.062172</td>\n",
              "      <td>1190.465991</td>\n",
              "      <td>4567.460317</td>\n",
              "      <td>38.210526</td>\n",
              "      <td>0.730159</td>\n",
              "      <td>0.369256</td>\n",
              "      <td>0.150376</td>\n",
              "      <td>34.609858</td>\n",
              "    </tr>\n",
              "    <tr>\n",
              "      <th>std</th>\n",
              "      <td>3.463963</td>\n",
              "      <td>0.097891</td>\n",
              "      <td>10.943219</td>\n",
              "      <td>1837.455001</td>\n",
              "      <td>3348.823563</td>\n",
              "      <td>160.182643</td>\n",
              "      <td>12.709757</td>\n",
              "      <td>3.268987</td>\n",
              "      <td>0.427848</td>\n",
              "      <td>22.197687</td>\n",
              "    </tr>\n",
              "    <tr>\n",
              "      <th>min</th>\n",
              "      <td>1.000000</td>\n",
              "      <td>0.070000</td>\n",
              "      <td>2.900000</td>\n",
              "      <td>7.000000</td>\n",
              "      <td>0.000000</td>\n",
              "      <td>0.000000</td>\n",
              "      <td>0.000000</td>\n",
              "      <td>0.000000</td>\n",
              "      <td>0.000000</td>\n",
              "      <td>2.000000</td>\n",
              "    </tr>\n",
              "    <tr>\n",
              "      <th>25%</th>\n",
              "      <td>3.000000</td>\n",
              "      <td>0.700000</td>\n",
              "      <td>3.940000</td>\n",
              "      <td>774.500000</td>\n",
              "      <td>1440.000000</td>\n",
              "      <td>0.000000</td>\n",
              "      <td>0.000000</td>\n",
              "      <td>0.000000</td>\n",
              "      <td>0.000000</td>\n",
              "      <td>9.000000</td>\n",
              "    </tr>\n",
              "    <tr>\n",
              "      <th>50%</th>\n",
              "      <td>6.000000</td>\n",
              "      <td>0.750000</td>\n",
              "      <td>15.260000</td>\n",
              "      <td>1039.000000</td>\n",
              "      <td>3960.000000</td>\n",
              "      <td>0.000000</td>\n",
              "      <td>0.000000</td>\n",
              "      <td>0.000000</td>\n",
              "      <td>0.000000</td>\n",
              "      <td>34.000000</td>\n",
              "    </tr>\n",
              "    <tr>\n",
              "      <th>75%</th>\n",
              "      <td>9.000000</td>\n",
              "      <td>0.800000</td>\n",
              "      <td>24.260000</td>\n",
              "      <td>1252.500000</td>\n",
              "      <td>6960.000000</td>\n",
              "      <td>50.000000</td>\n",
              "      <td>0.000000</td>\n",
              "      <td>0.000000</td>\n",
              "      <td>0.000000</td>\n",
              "      <td>57.000000</td>\n",
              "    </tr>\n",
              "    <tr>\n",
              "      <th>max</th>\n",
              "      <td>12.000000</td>\n",
              "      <td>0.800000</td>\n",
              "      <td>54.560000</td>\n",
              "      <td>23122.000000</td>\n",
              "      <td>25920.000000</td>\n",
              "      <td>3600.000000</td>\n",
              "      <td>300.000000</td>\n",
              "      <td>45.000000</td>\n",
              "      <td>2.000000</td>\n",
              "      <td>89.000000</td>\n",
              "    </tr>\n",
              "  </tbody>\n",
              "</table>\n",
              "</div>"
            ],
            "text/plain": [
              "              team  targeted_productivity          smv           wip  \\\n",
              "count  1197.000000            1197.000000  1197.000000    691.000000   \n",
              "mean      6.426901               0.729632    15.062172   1190.465991   \n",
              "std       3.463963               0.097891    10.943219   1837.455001   \n",
              "min       1.000000               0.070000     2.900000      7.000000   \n",
              "25%       3.000000               0.700000     3.940000    774.500000   \n",
              "50%       6.000000               0.750000    15.260000   1039.000000   \n",
              "75%       9.000000               0.800000    24.260000   1252.500000   \n",
              "max      12.000000               0.800000    54.560000  23122.000000   \n",
              "\n",
              "          over_time    incentive    idle_time     idle_men  \\\n",
              "count   1197.000000  1197.000000  1197.000000  1197.000000   \n",
              "mean    4567.460317    38.210526     0.730159     0.369256   \n",
              "std     3348.823563   160.182643    12.709757     3.268987   \n",
              "min        0.000000     0.000000     0.000000     0.000000   \n",
              "25%     1440.000000     0.000000     0.000000     0.000000   \n",
              "50%     3960.000000     0.000000     0.000000     0.000000   \n",
              "75%     6960.000000    50.000000     0.000000     0.000000   \n",
              "max    25920.000000  3600.000000   300.000000    45.000000   \n",
              "\n",
              "       no_of_style_change  no_of_workers  \n",
              "count         1197.000000    1197.000000  \n",
              "mean             0.150376      34.609858  \n",
              "std              0.427848      22.197687  \n",
              "min              0.000000       2.000000  \n",
              "25%              0.000000       9.000000  \n",
              "50%              0.000000      34.000000  \n",
              "75%              0.000000      57.000000  \n",
              "max              2.000000      89.000000  "
            ]
          },
          "execution_count": 27,
          "metadata": {},
          "output_type": "execute_result"
        }
      ],
      "source": [
        "data.describe()"
      ]
    },
    {
      "cell_type": "markdown",
      "metadata": {
        "id": "x4cPAo8DuB5S"
      },
      "source": [
        "1. Verificar cuantos datos faltantes hay por cada variable."
      ]
    },
    {
      "cell_type": "code",
      "execution_count": 28,
      "metadata": {
        "colab": {
          "base_uri": "https://localhost:8080/",
          "height": 554
        },
        "id": "z4ohmVyzFYs5",
        "outputId": "1ac420d0-ba5e-4ce8-a7f1-854733800c00"
      },
      "outputs": [
        {
          "name": "stdout",
          "output_type": "stream",
          "text": [
            "Número de datos faltantes: \n",
            "date                       0\n",
            "quarter                    0\n",
            "department                 0\n",
            "day                        0\n",
            "team                       0\n",
            "targeted_productivity      0\n",
            "smv                        0\n",
            "wip                      506\n",
            "over_time                  0\n",
            "incentive                  0\n",
            "idle_time                  0\n",
            "idle_men                   0\n",
            "no_of_style_change         0\n",
            "no_of_workers              0\n",
            "actual_productivity        0\n",
            "dtype: int64\n"
          ]
        }
      ],
      "source": [
        "empty_rows_per_column = data.isnull().sum()\n",
        "print(f'Número de datos faltantes: \\n{empty_rows_per_column}')"
      ]
    },
    {
      "cell_type": "code",
      "execution_count": 29,
      "metadata": {},
      "outputs": [
        {
          "data": {
            "text/html": [
              "<div>\n",
              "<style scoped>\n",
              "    .dataframe tbody tr th:only-of-type {\n",
              "        vertical-align: middle;\n",
              "    }\n",
              "\n",
              "    .dataframe tbody tr th {\n",
              "        vertical-align: top;\n",
              "    }\n",
              "\n",
              "    .dataframe thead th {\n",
              "        text-align: right;\n",
              "    }\n",
              "</style>\n",
              "<table border=\"1\" class=\"dataframe\">\n",
              "  <thead>\n",
              "    <tr style=\"text-align: right;\">\n",
              "      <th></th>\n",
              "      <th>date</th>\n",
              "      <th>quarter</th>\n",
              "      <th>department</th>\n",
              "      <th>day</th>\n",
              "      <th>team</th>\n",
              "      <th>targeted_productivity</th>\n",
              "      <th>smv</th>\n",
              "      <th>wip</th>\n",
              "      <th>over_time</th>\n",
              "      <th>incentive</th>\n",
              "      <th>idle_time</th>\n",
              "      <th>idle_men</th>\n",
              "      <th>no_of_style_change</th>\n",
              "      <th>no_of_workers</th>\n",
              "      <th>actual_productivity</th>\n",
              "    </tr>\n",
              "  </thead>\n",
              "  <tbody>\n",
              "    <tr>\n",
              "      <th>1</th>\n",
              "      <td>1/01/2015</td>\n",
              "      <td>Quarter1</td>\n",
              "      <td>finishing</td>\n",
              "      <td>Thursday</td>\n",
              "      <td>1</td>\n",
              "      <td>0.75</td>\n",
              "      <td>3.94</td>\n",
              "      <td>NaN</td>\n",
              "      <td>960</td>\n",
              "      <td>0</td>\n",
              "      <td>0.0</td>\n",
              "      <td>0</td>\n",
              "      <td>0</td>\n",
              "      <td>8.0</td>\n",
              "      <td>0.8865</td>\n",
              "    </tr>\n",
              "    <tr>\n",
              "      <th>6</th>\n",
              "      <td>1/01/2015</td>\n",
              "      <td>Quarter1</td>\n",
              "      <td>finishing</td>\n",
              "      <td>Thursday</td>\n",
              "      <td>2</td>\n",
              "      <td>0.75</td>\n",
              "      <td>3.94</td>\n",
              "      <td>NaN</td>\n",
              "      <td>960</td>\n",
              "      <td>0</td>\n",
              "      <td>0.0</td>\n",
              "      <td>0</td>\n",
              "      <td>0</td>\n",
              "      <td>8.0</td>\n",
              "      <td>0.755166667</td>\n",
              "    </tr>\n",
              "    <tr>\n",
              "      <th>13</th>\n",
              "      <td>1/01/2015</td>\n",
              "      <td>Quarter1</td>\n",
              "      <td>finishing</td>\n",
              "      <td>Thursday</td>\n",
              "      <td>10</td>\n",
              "      <td>0.65</td>\n",
              "      <td>3.94</td>\n",
              "      <td>NaN</td>\n",
              "      <td>960</td>\n",
              "      <td>0</td>\n",
              "      <td>0.0</td>\n",
              "      <td>0</td>\n",
              "      <td>0</td>\n",
              "      <td>8.0</td>\n",
              "      <td>0.705916667</td>\n",
              "    </tr>\n",
              "    <tr>\n",
              "      <th>14</th>\n",
              "      <td>1/01/2015</td>\n",
              "      <td>Quarter1</td>\n",
              "      <td>finishing</td>\n",
              "      <td>Thursday</td>\n",
              "      <td>8</td>\n",
              "      <td>0.75</td>\n",
              "      <td>2.90</td>\n",
              "      <td>NaN</td>\n",
              "      <td>960</td>\n",
              "      <td>0</td>\n",
              "      <td>0.0</td>\n",
              "      <td>0</td>\n",
              "      <td>0</td>\n",
              "      <td>8.0</td>\n",
              "      <td>0.676666667</td>\n",
              "    </tr>\n",
              "    <tr>\n",
              "      <th>15</th>\n",
              "      <td>1/01/2015</td>\n",
              "      <td>Quarter1</td>\n",
              "      <td>finishing</td>\n",
              "      <td>Thursday</td>\n",
              "      <td>4</td>\n",
              "      <td>0.75</td>\n",
              "      <td>3.94</td>\n",
              "      <td>NaN</td>\n",
              "      <td>2160</td>\n",
              "      <td>0</td>\n",
              "      <td>0.0</td>\n",
              "      <td>0</td>\n",
              "      <td>0</td>\n",
              "      <td>18.0</td>\n",
              "      <td>0.593055556</td>\n",
              "    </tr>\n",
              "    <tr>\n",
              "      <th>...</th>\n",
              "      <td>...</td>\n",
              "      <td>...</td>\n",
              "      <td>...</td>\n",
              "      <td>...</td>\n",
              "      <td>...</td>\n",
              "      <td>...</td>\n",
              "      <td>...</td>\n",
              "      <td>...</td>\n",
              "      <td>...</td>\n",
              "      <td>...</td>\n",
              "      <td>...</td>\n",
              "      <td>...</td>\n",
              "      <td>...</td>\n",
              "      <td>...</td>\n",
              "      <td>...</td>\n",
              "    </tr>\n",
              "    <tr>\n",
              "      <th>1192</th>\n",
              "      <td>3/11/2015</td>\n",
              "      <td>Quarter2</td>\n",
              "      <td>finishing</td>\n",
              "      <td>Wednesday</td>\n",
              "      <td>10</td>\n",
              "      <td>0.75</td>\n",
              "      <td>2.90</td>\n",
              "      <td>NaN</td>\n",
              "      <td>960</td>\n",
              "      <td>0</td>\n",
              "      <td>0.0</td>\n",
              "      <td>0</td>\n",
              "      <td>0</td>\n",
              "      <td>8.0</td>\n",
              "      <td>0.628333333</td>\n",
              "    </tr>\n",
              "    <tr>\n",
              "      <th>1193</th>\n",
              "      <td>3/11/2015</td>\n",
              "      <td>Quarter2</td>\n",
              "      <td>finishing</td>\n",
              "      <td>Wednesday</td>\n",
              "      <td>8</td>\n",
              "      <td>0.70</td>\n",
              "      <td>3.90</td>\n",
              "      <td>NaN</td>\n",
              "      <td>960</td>\n",
              "      <td>0</td>\n",
              "      <td>0.0</td>\n",
              "      <td>0</td>\n",
              "      <td>0</td>\n",
              "      <td>8.0</td>\n",
              "      <td>0.625625</td>\n",
              "    </tr>\n",
              "    <tr>\n",
              "      <th>1194</th>\n",
              "      <td>3/11/2015</td>\n",
              "      <td>Quarter2</td>\n",
              "      <td>finishing</td>\n",
              "      <td>Wednesday</td>\n",
              "      <td>7</td>\n",
              "      <td>0.65</td>\n",
              "      <td>3.90</td>\n",
              "      <td>NaN</td>\n",
              "      <td>960</td>\n",
              "      <td>0</td>\n",
              "      <td>0.0</td>\n",
              "      <td>0</td>\n",
              "      <td>0</td>\n",
              "      <td>8.0</td>\n",
              "      <td>0.625625</td>\n",
              "    </tr>\n",
              "    <tr>\n",
              "      <th>1195</th>\n",
              "      <td>3/11/2015</td>\n",
              "      <td>Quarter2</td>\n",
              "      <td>finishing</td>\n",
              "      <td>Wednesday</td>\n",
              "      <td>9</td>\n",
              "      <td>0.75</td>\n",
              "      <td>2.90</td>\n",
              "      <td>NaN</td>\n",
              "      <td>1800</td>\n",
              "      <td>0</td>\n",
              "      <td>0.0</td>\n",
              "      <td>0</td>\n",
              "      <td>0</td>\n",
              "      <td>15.0</td>\n",
              "      <td>0.505888889</td>\n",
              "    </tr>\n",
              "    <tr>\n",
              "      <th>1196</th>\n",
              "      <td>3/11/2015</td>\n",
              "      <td>Quarter2</td>\n",
              "      <td>finishing</td>\n",
              "      <td>Wednesday</td>\n",
              "      <td>6</td>\n",
              "      <td>0.70</td>\n",
              "      <td>2.90</td>\n",
              "      <td>NaN</td>\n",
              "      <td>720</td>\n",
              "      <td>0</td>\n",
              "      <td>0.0</td>\n",
              "      <td>0</td>\n",
              "      <td>0</td>\n",
              "      <td>6.0</td>\n",
              "      <td>0.394722222</td>\n",
              "    </tr>\n",
              "  </tbody>\n",
              "</table>\n",
              "<p>506 rows × 15 columns</p>\n",
              "</div>"
            ],
            "text/plain": [
              "           date   quarter  department        day  team  targeted_productivity  \\\n",
              "1     1/01/2015  Quarter1  finishing    Thursday     1                   0.75   \n",
              "6     1/01/2015  Quarter1  finishing    Thursday     2                   0.75   \n",
              "13    1/01/2015  Quarter1  finishing    Thursday    10                   0.65   \n",
              "14    1/01/2015  Quarter1  finishing    Thursday     8                   0.75   \n",
              "15    1/01/2015  Quarter1  finishing    Thursday     4                   0.75   \n",
              "...         ...       ...         ...        ...   ...                    ...   \n",
              "1192  3/11/2015  Quarter2   finishing  Wednesday    10                   0.75   \n",
              "1193  3/11/2015  Quarter2   finishing  Wednesday     8                   0.70   \n",
              "1194  3/11/2015  Quarter2   finishing  Wednesday     7                   0.65   \n",
              "1195  3/11/2015  Quarter2   finishing  Wednesday     9                   0.75   \n",
              "1196  3/11/2015  Quarter2   finishing  Wednesday     6                   0.70   \n",
              "\n",
              "       smv  wip  over_time  incentive  idle_time  idle_men  \\\n",
              "1     3.94  NaN        960          0        0.0         0   \n",
              "6     3.94  NaN        960          0        0.0         0   \n",
              "13    3.94  NaN        960          0        0.0         0   \n",
              "14    2.90  NaN        960          0        0.0         0   \n",
              "15    3.94  NaN       2160          0        0.0         0   \n",
              "...    ...  ...        ...        ...        ...       ...   \n",
              "1192  2.90  NaN        960          0        0.0         0   \n",
              "1193  3.90  NaN        960          0        0.0         0   \n",
              "1194  3.90  NaN        960          0        0.0         0   \n",
              "1195  2.90  NaN       1800          0        0.0         0   \n",
              "1196  2.90  NaN        720          0        0.0         0   \n",
              "\n",
              "      no_of_style_change  no_of_workers actual_productivity  \n",
              "1                      0            8.0              0.8865  \n",
              "6                      0            8.0         0.755166667  \n",
              "13                     0            8.0         0.705916667  \n",
              "14                     0            8.0         0.676666667  \n",
              "15                     0           18.0         0.593055556  \n",
              "...                  ...            ...                 ...  \n",
              "1192                   0            8.0         0.628333333  \n",
              "1193                   0            8.0            0.625625  \n",
              "1194                   0            8.0            0.625625  \n",
              "1195                   0           15.0         0.505888889  \n",
              "1196                   0            6.0         0.394722222  \n",
              "\n",
              "[506 rows x 15 columns]"
            ]
          },
          "execution_count": 29,
          "metadata": {},
          "output_type": "execute_result"
        }
      ],
      "source": [
        "data_na = data[data.isna().any(axis=1)]\n",
        "data_na"
      ]
    },
    {
      "cell_type": "code",
      "execution_count": 30,
      "metadata": {},
      "outputs": [
        {
          "data": {
            "text/plain": [
              "array(['finishing ', 'finishing'], dtype=object)"
            ]
          },
          "execution_count": 30,
          "metadata": {},
          "output_type": "execute_result"
        }
      ],
      "source": [
        "data_na.department.unique()"
      ]
    },
    {
      "cell_type": "markdown",
      "metadata": {},
      "source": [
        "Como se puede ver el WIP tambien conocido como Work In Progress en una linea de producción es un indicador que nos dice cuantas unidades hay en ese proceso en ese instante de tiempo. Todas las que son NAs son del department de \"finishing\", entonces no es que los datos esten faltantes, sino que el WIP cuando se termina un producto es precisamente cero."
      ]
    },
    {
      "cell_type": "code",
      "execution_count": 31,
      "metadata": {},
      "outputs": [
        {
          "data": {
            "text/html": [
              "<div>\n",
              "<style scoped>\n",
              "    .dataframe tbody tr th:only-of-type {\n",
              "        vertical-align: middle;\n",
              "    }\n",
              "\n",
              "    .dataframe tbody tr th {\n",
              "        vertical-align: top;\n",
              "    }\n",
              "\n",
              "    .dataframe thead th {\n",
              "        text-align: right;\n",
              "    }\n",
              "</style>\n",
              "<table border=\"1\" class=\"dataframe\">\n",
              "  <thead>\n",
              "    <tr style=\"text-align: right;\">\n",
              "      <th></th>\n",
              "      <th>date</th>\n",
              "      <th>quarter</th>\n",
              "      <th>department</th>\n",
              "      <th>day</th>\n",
              "      <th>team</th>\n",
              "      <th>targeted_productivity</th>\n",
              "      <th>smv</th>\n",
              "      <th>wip</th>\n",
              "      <th>over_time</th>\n",
              "      <th>incentive</th>\n",
              "      <th>idle_time</th>\n",
              "      <th>idle_men</th>\n",
              "      <th>no_of_style_change</th>\n",
              "      <th>no_of_workers</th>\n",
              "      <th>actual_productivity</th>\n",
              "    </tr>\n",
              "  </thead>\n",
              "  <tbody>\n",
              "    <tr>\n",
              "      <th>0</th>\n",
              "      <td>1/01/2015</td>\n",
              "      <td>Quarter1</td>\n",
              "      <td>sweing</td>\n",
              "      <td>Thursday</td>\n",
              "      <td>8</td>\n",
              "      <td>0.80</td>\n",
              "      <td>26.16</td>\n",
              "      <td>1108.0</td>\n",
              "      <td>7080</td>\n",
              "      <td>98</td>\n",
              "      <td>0.0</td>\n",
              "      <td>0</td>\n",
              "      <td>0</td>\n",
              "      <td>59.0</td>\n",
              "      <td>0.940725424</td>\n",
              "    </tr>\n",
              "    <tr>\n",
              "      <th>1</th>\n",
              "      <td>1/01/2015</td>\n",
              "      <td>Quarter1</td>\n",
              "      <td>finishing</td>\n",
              "      <td>Thursday</td>\n",
              "      <td>1</td>\n",
              "      <td>0.75</td>\n",
              "      <td>3.94</td>\n",
              "      <td>0.0</td>\n",
              "      <td>960</td>\n",
              "      <td>0</td>\n",
              "      <td>0.0</td>\n",
              "      <td>0</td>\n",
              "      <td>0</td>\n",
              "      <td>8.0</td>\n",
              "      <td>0.8865</td>\n",
              "    </tr>\n",
              "    <tr>\n",
              "      <th>2</th>\n",
              "      <td>1/01/2015</td>\n",
              "      <td>Quarter1</td>\n",
              "      <td>sweing</td>\n",
              "      <td>Thursday</td>\n",
              "      <td>11</td>\n",
              "      <td>0.80</td>\n",
              "      <td>11.41</td>\n",
              "      <td>968.0</td>\n",
              "      <td>3660</td>\n",
              "      <td>50</td>\n",
              "      <td>0.0</td>\n",
              "      <td>0</td>\n",
              "      <td>0</td>\n",
              "      <td>30.5</td>\n",
              "      <td>0.800570492</td>\n",
              "    </tr>\n",
              "    <tr>\n",
              "      <th>3</th>\n",
              "      <td>1/01/2015</td>\n",
              "      <td>Quarter1</td>\n",
              "      <td>sweing</td>\n",
              "      <td>Thursday</td>\n",
              "      <td>12</td>\n",
              "      <td>0.80</td>\n",
              "      <td>11.41</td>\n",
              "      <td>968.0</td>\n",
              "      <td>3660</td>\n",
              "      <td>50</td>\n",
              "      <td>0.0</td>\n",
              "      <td>0</td>\n",
              "      <td>0</td>\n",
              "      <td>30.5</td>\n",
              "      <td>0.800570492</td>\n",
              "    </tr>\n",
              "    <tr>\n",
              "      <th>4</th>\n",
              "      <td>1/01/2015</td>\n",
              "      <td>Quarter1</td>\n",
              "      <td>sweing</td>\n",
              "      <td>Thursday</td>\n",
              "      <td>6</td>\n",
              "      <td>0.80</td>\n",
              "      <td>25.90</td>\n",
              "      <td>1170.0</td>\n",
              "      <td>1920</td>\n",
              "      <td>50</td>\n",
              "      <td>0.0</td>\n",
              "      <td>0</td>\n",
              "      <td>0</td>\n",
              "      <td>56.0</td>\n",
              "      <td>0.800381944</td>\n",
              "    </tr>\n",
              "  </tbody>\n",
              "</table>\n",
              "</div>"
            ],
            "text/plain": [
              "        date   quarter  department       day  team  targeted_productivity  \\\n",
              "0  1/01/2015  Quarter1      sweing  Thursday     8                   0.80   \n",
              "1  1/01/2015  Quarter1  finishing   Thursday     1                   0.75   \n",
              "2  1/01/2015  Quarter1      sweing  Thursday    11                   0.80   \n",
              "3  1/01/2015  Quarter1      sweing  Thursday    12                   0.80   \n",
              "4  1/01/2015  Quarter1      sweing  Thursday     6                   0.80   \n",
              "\n",
              "     smv     wip  over_time  incentive  idle_time  idle_men  \\\n",
              "0  26.16  1108.0       7080         98        0.0         0   \n",
              "1   3.94     0.0        960          0        0.0         0   \n",
              "2  11.41   968.0       3660         50        0.0         0   \n",
              "3  11.41   968.0       3660         50        0.0         0   \n",
              "4  25.90  1170.0       1920         50        0.0         0   \n",
              "\n",
              "   no_of_style_change  no_of_workers actual_productivity  \n",
              "0                   0           59.0         0.940725424  \n",
              "1                   0            8.0              0.8865  \n",
              "2                   0           30.5         0.800570492  \n",
              "3                   0           30.5         0.800570492  \n",
              "4                   0           56.0         0.800381944  "
            ]
          },
          "execution_count": 31,
          "metadata": {},
          "output_type": "execute_result"
        }
      ],
      "source": [
        "data['wip'] = data['wip'].fillna(0)\n",
        "data.head()"
      ]
    },
    {
      "cell_type": "markdown",
      "metadata": {},
      "source": [
        "Revisar datos duplicados"
      ]
    },
    {
      "cell_type": "code",
      "execution_count": 32,
      "metadata": {},
      "outputs": [
        {
          "name": "stdout",
          "output_type": "stream",
          "text": [
            "Número de datos duplicados: 0\n"
          ]
        }
      ],
      "source": [
        "data_duplicados = data.duplicated().sum()\n",
        "print(f'Número de datos duplicados: {data_duplicados}')"
      ]
    },
    {
      "cell_type": "markdown",
      "metadata": {},
      "source": [
        "Revisar los valores de los datos de cada columna"
      ]
    },
    {
      "cell_type": "code",
      "execution_count": 33,
      "metadata": {},
      "outputs": [
        {
          "name": "stdout",
          "output_type": "stream",
          "text": [
            "Valores únicos por columna: \n",
            " date                     [1/01/2015, 1/03/2015, 1/04/2015, 1/05/2015, 1...\n",
            "quarter                  [Quarter1, Quarter2, Quarter3, Quarter4, Quart...\n",
            "department                                 [finishing, finishing , sweing]\n",
            "day                      [Monday, Saturday, Sunday, Thursday, Tuesday, ...\n",
            "team                               [1, 2, 3, 4, 5, 6, 7, 8, 9, 10, 11, 12]\n",
            "targeted_productivity    [0.07, 0.35, 0.4, 0.5, 0.6, 0.65, 0.7, 0.75, 0.8]\n",
            "smv                      [2.9, 3.9, 3.94, 4.08, 4.15, 4.3, 4.6, 5.13, 1...\n",
            "wip                      [0.0, 7.0, 10.0, 11.0, 12.0, 13.0, 14.0, 15.0,...\n",
            "over_time                [0, 120, 240, 360, 480, 600, 720, 840, 900, 96...\n",
            "incentive                [0, 21, 23, 24, 25, 26, 27, 29, 30, 32, 33, 34...\n",
            "idle_time                [0.0, 2.0, 3.5, 4.0, 4.5, 5.0, 6.5, 8.0, 90.0,...\n",
            "idle_men                           [0, 10, 15, 20, 25, 30, 35, 37, 40, 45]\n",
            "no_of_style_change                                               [0, 1, 2]\n",
            "no_of_workers            [2.0, 4.0, 5.0, 6.0, 7.0, 8.0, 9.0, 10.0, 11.0...\n",
            "actual_productivity      [0.233705476, 0.235795455, 0.238041667, 0.2462...\n",
            "dtype: object\n",
            "\n",
            "Numero de valores únicos por columna: \n",
            " actual_productivity      879\n",
            "wip                      549\n",
            "over_time                143\n",
            "smv                       70\n",
            "no_of_workers             61\n",
            "date                      59\n",
            "incentive                 48\n",
            "team                      12\n",
            "idle_time                 12\n",
            "idle_men                  10\n",
            "targeted_productivity      9\n",
            "day                        6\n",
            "quarter                    5\n",
            "department                 3\n",
            "no_of_style_change         3\n",
            "dtype: int64\n"
          ]
        }
      ],
      "source": [
        "data_variables = data.apply(lambda x: np.sort(pd.Series.unique(x)))\n",
        "print(f'Valores únicos por columna: \\n {data_variables}\\n')\n",
        "\n",
        "data_num_variables = data.apply(pd.Series.nunique).sort_values(ascending=False)\n",
        "print(f'Numero de valores únicos por columna: \\n {data_num_variables}')"
      ]
    },
    {
      "cell_type": "markdown",
      "metadata": {},
      "source": [
        "Algo inusual es que en la columna \"day\" solo aparecen 6 dias de la semana, La semana tiene 7 dias, el dia \"Friday\" (viernes) no aparece en los datos, habría que analizar bien si fue por perdida de datos o sencillamente fue que los viernes la fabrica no opera."
      ]
    },
    {
      "cell_type": "code",
      "execution_count": 34,
      "metadata": {},
      "outputs": [
        {
          "data": {
            "text/plain": [
              "array(['Thursday', 'Saturday', 'Sunday', 'Monday', 'Tuesday', 'Wednesday'],\n",
              "      dtype=object)"
            ]
          },
          "execution_count": 34,
          "metadata": {},
          "output_type": "execute_result"
        }
      ],
      "source": [
        "data.day.unique()"
      ]
    },
    {
      "cell_type": "markdown",
      "metadata": {},
      "source": [
        "Como se puede evidenciar en la columna departmento hay un duplicado de una variable que es \"finishing\" y \"finishing \" una tiene un espacio al final, entonces lo toma como un valor diferente. Dado que son el mismo departamento, entonces vamosa unificar los dos en \"finishing\". Ademas \"sweing\" esta mal escrito en ingles, deberia ser \"sewing\"."
      ]
    },
    {
      "cell_type": "code",
      "execution_count": 35,
      "metadata": {},
      "outputs": [
        {
          "data": {
            "text/plain": [
              "array(['sewing', 'finishing'], dtype=object)"
            ]
          },
          "execution_count": 35,
          "metadata": {},
          "output_type": "execute_result"
        }
      ],
      "source": [
        "data['department'] = data['department'].replace({'finishing ':'finishing', 'sweing':'sewing'})\n",
        "data.department.unique()"
      ]
    },
    {
      "cell_type": "code",
      "execution_count": 36,
      "metadata": {},
      "outputs": [
        {
          "data": {
            "image/png": "[encoded data removed]",
            "text/plain": [
              "<Figure size 1000x600 with 1 Axes>"
            ]
          },
          "metadata": {},
          "output_type": "display_data"
        }
      ],
      "source": [
        "plt.figure(figsize=(10, 6))\n",
        "sns.boxplot(y=data['wip'], x=data['department'])\n",
        "plt.title('Diagrama de Cajas de WIP')\n",
        "plt.xlabel('department')\n",
        "plt.ylabel('WIP')\n",
        "plt.show()"
      ]
    },
    {
      "cell_type": "markdown",
      "metadata": {
        "id": "rS3VwBaCuuWB"
      },
      "source": [
        "Aqui se puede ver que la unica variable que tiene datos faltantes es la de wip (trabajo en progreso), por lo que haremos un histograma para ver la distribucion de dicha variable."
      ]
    },
    {
      "cell_type": "code",
      "execution_count": 37,
      "metadata": {
        "colab": {
          "base_uri": "https://localhost:8080/",
          "height": 564
        },
        "id": "8-oYZqnOu4an",
        "outputId": "1f400cd7-8d1b-4501-9e98-db9b95e6849f"
      },
      "outputs": [
        {
          "data": {
            "image/png": "[encoded data removed]",
            "text/plain": [
              "<Figure size 1000x600 with 1 Axes>"
            ]
          },
          "metadata": {},
          "output_type": "display_data"
        }
      ],
      "source": [
        "# prompt: Creame un histograma de la variable wip en data\n",
        "\n",
        "plt.figure(figsize=(10, 6))\n",
        "sns.histplot(data['wip'], bins=20, kde=True)\n",
        "plt.title('Histograma de WIP')\n",
        "plt.xlabel('WIP')\n",
        "plt.ylabel('Frecuencia')\n",
        "plt.show()"
      ]
    },
    {
      "cell_type": "markdown",
      "metadata": {
        "id": "1FMxOnG-vH-i"
      },
      "source": [
        "El histograma de la variable \"wip\" muestra una distribución sesgada hacia la derecha, con muchos valores concentrados cerca de cero y algunos valores extremos (outliers) que están muy alejados del resto de los datos. Primero crearemos una tabla de correlaciones para ver como se comportan las otras variables conforme a wip."
      ]
    },
    {
      "cell_type": "code",
      "execution_count": 38,
      "metadata": {
        "colab": {
          "base_uri": "https://localhost:8080/",
          "height": 604
        },
        "id": "X1cs86HZwNuf",
        "outputId": "1f044aa9-964d-4977-ced4-befdb19bc105"
      },
      "outputs": [
        {
          "data": {
            "image/png": "[encoded data removed]",
            "text/plain": [
              "<Figure size 600x500 with 2 Axes>"
            ]
          },
          "metadata": {},
          "output_type": "display_data"
        }
      ],
      "source": [
        "# Extract numerical features for correlation analysis\n",
        "numerical_features = data.select_dtypes(include=['number'])\n",
        "\n",
        "# Calculate the correlation matrix\n",
        "correlation_matrix = numerical_features.corr()\n",
        "\n",
        "# Create a heatmap using Seaborn\n",
        "plt.figure(figsize=(6, 5))\n",
        "sns.heatmap(correlation_matrix, annot=True, cmap='coolwarm', fmt=\".2f\")\n",
        "plt.title('Correlation Matrix of Numerical Features')\n",
        "plt.show()"
      ]
    },
    {
      "cell_type": "markdown",
      "metadata": {
        "id": "8GASh46Svxe8"
      },
      "source": [
        "Las variables numéricas más correlacionadas con \"wip\" son las siguientes:\n",
        "\n",
        "*   incentive (0.17): Tiene una correlación positiva moderada.\n",
        "*   actual_productivity (0.11): Correlación positiva ligera.\n",
        "*   targeted_productivity (0.06): Correlación positiva baja.\n",
        "*   no_of_workers (0.03): Correlación positiva baja.\n",
        "*   over_time (0.02): Correlación positiva mínima.\n",
        "\n",
        "Podemos observar que la correlacion es muy baja y por lo tanto un modelo de regresion lineal multiple no seria muy adecuado. Por lo tanto, optaremos por utilizar la mediana, que es una medida de tendencia central la cual no se ve afectada por los outliers y que podría funcionar muy bien con estos datos faltantes."
      ]
    },
    {
      "cell_type": "code",
      "execution_count": 39,
      "metadata": {
        "colab": {
          "base_uri": "https://localhost:8080/",
          "height": 695
        },
        "id": "lgtDyPR6yH2G",
        "outputId": "732dab9e-1927-46ff-a18b-8e2254bbe148"
      },
      "outputs": [
        {
          "name": "stderr",
          "output_type": "stream",
          "text": [
            "C:\\Users\\LEGION\\AppData\\Local\\Temp\\ipykernel_20092\\1544559285.py:3: FutureWarning: A value is trying to be set on a copy of a DataFrame or Series through chained assignment using an inplace method.\n",
            "The behavior will change in pandas 3.0. This inplace method will never work because the intermediate object on which we are setting values always behaves as a copy.\n",
            "\n",
            "For example, when doing 'df[col].method(value, inplace=True)', try using 'df.method({col: value}, inplace=True)' or df[col] = df[col].method(value) instead, to perform the operation inplace on the original object.\n",
            "\n",
            "\n",
            "  data['wip'].fillna(wip_median, inplace=True)\n"
          ]
        },
        {
          "data": {
            "text/plain": [
              "date                     0\n",
              "quarter                  0\n",
              "department               0\n",
              "day                      0\n",
              "team                     0\n",
              "targeted_productivity    0\n",
              "smv                      0\n",
              "wip                      0\n",
              "over_time                0\n",
              "incentive                0\n",
              "idle_time                0\n",
              "idle_men                 0\n",
              "no_of_style_change       0\n",
              "no_of_workers            0\n",
              "actual_productivity      0\n",
              "dtype: int64"
            ]
          },
          "execution_count": 39,
          "metadata": {},
          "output_type": "execute_result"
        }
      ],
      "source": [
        "wip_median = data['wip'].median()\n",
        "\n",
        "data['wip'].fillna(wip_median, inplace=True)\n",
        "\n",
        "empty_rows_per_column = data.isnull().sum()\n",
        "empty_rows_per_column"
      ]
    },
    {
      "cell_type": "markdown",
      "metadata": {
        "id": "vj4jOjjW0-Ue"
      },
      "source": [
        "Avanzando un poco hacia las inconsistencias, analizamos que la variable de no_of_workers (numero de trabajadores por equipo) tiene valores decimales, llegando a tener valores con .5, lo cual no es posible ya que estamos hablando de personas y no puede haber media persona, deben de ser enteros, por eso redondearemos dichos valores a su entero mas cercano."
      ]
    },
    {
      "cell_type": "code",
      "execution_count": 40,
      "metadata": {},
      "outputs": [
        {
          "data": {
            "text/html": [
              "<div>\n",
              "<style scoped>\n",
              "    .dataframe tbody tr th:only-of-type {\n",
              "        vertical-align: middle;\n",
              "    }\n",
              "\n",
              "    .dataframe tbody tr th {\n",
              "        vertical-align: top;\n",
              "    }\n",
              "\n",
              "    .dataframe thead th {\n",
              "        text-align: right;\n",
              "    }\n",
              "</style>\n",
              "<table border=\"1\" class=\"dataframe\">\n",
              "  <thead>\n",
              "    <tr style=\"text-align: right;\">\n",
              "      <th></th>\n",
              "      <th>date</th>\n",
              "      <th>quarter</th>\n",
              "      <th>department</th>\n",
              "      <th>day</th>\n",
              "      <th>team</th>\n",
              "      <th>targeted_productivity</th>\n",
              "      <th>smv</th>\n",
              "      <th>wip</th>\n",
              "      <th>over_time</th>\n",
              "      <th>incentive</th>\n",
              "      <th>idle_time</th>\n",
              "      <th>idle_men</th>\n",
              "      <th>no_of_style_change</th>\n",
              "      <th>no_of_workers</th>\n",
              "      <th>actual_productivity</th>\n",
              "    </tr>\n",
              "  </thead>\n",
              "  <tbody>\n",
              "    <tr>\n",
              "      <th>2</th>\n",
              "      <td>1/01/2015</td>\n",
              "      <td>Quarter1</td>\n",
              "      <td>sewing</td>\n",
              "      <td>Thursday</td>\n",
              "      <td>11</td>\n",
              "      <td>0.80</td>\n",
              "      <td>11.41</td>\n",
              "      <td>968.0</td>\n",
              "      <td>3660</td>\n",
              "      <td>50</td>\n",
              "      <td>0.0</td>\n",
              "      <td>0</td>\n",
              "      <td>0</td>\n",
              "      <td>30.5</td>\n",
              "      <td>0.800570492</td>\n",
              "    </tr>\n",
              "    <tr>\n",
              "      <th>3</th>\n",
              "      <td>1/01/2015</td>\n",
              "      <td>Quarter1</td>\n",
              "      <td>sewing</td>\n",
              "      <td>Thursday</td>\n",
              "      <td>12</td>\n",
              "      <td>0.80</td>\n",
              "      <td>11.41</td>\n",
              "      <td>968.0</td>\n",
              "      <td>3660</td>\n",
              "      <td>50</td>\n",
              "      <td>0.0</td>\n",
              "      <td>0</td>\n",
              "      <td>0</td>\n",
              "      <td>30.5</td>\n",
              "      <td>0.800570492</td>\n",
              "    </tr>\n",
              "    <tr>\n",
              "      <th>7</th>\n",
              "      <td>1/01/2015</td>\n",
              "      <td>Quarter1</td>\n",
              "      <td>sewing</td>\n",
              "      <td>Thursday</td>\n",
              "      <td>3</td>\n",
              "      <td>0.75</td>\n",
              "      <td>28.08</td>\n",
              "      <td>795.0</td>\n",
              "      <td>6900</td>\n",
              "      <td>45</td>\n",
              "      <td>0.0</td>\n",
              "      <td>0</td>\n",
              "      <td>0</td>\n",
              "      <td>57.5</td>\n",
              "      <td>0.753683478</td>\n",
              "    </tr>\n",
              "    <tr>\n",
              "      <th>9</th>\n",
              "      <td>1/01/2015</td>\n",
              "      <td>Quarter1</td>\n",
              "      <td>sewing</td>\n",
              "      <td>Thursday</td>\n",
              "      <td>1</td>\n",
              "      <td>0.75</td>\n",
              "      <td>28.08</td>\n",
              "      <td>681.0</td>\n",
              "      <td>6900</td>\n",
              "      <td>45</td>\n",
              "      <td>0.0</td>\n",
              "      <td>0</td>\n",
              "      <td>0</td>\n",
              "      <td>57.5</td>\n",
              "      <td>0.750427826</td>\n",
              "    </tr>\n",
              "    <tr>\n",
              "      <th>10</th>\n",
              "      <td>1/01/2015</td>\n",
              "      <td>Quarter1</td>\n",
              "      <td>sewing</td>\n",
              "      <td>Thursday</td>\n",
              "      <td>9</td>\n",
              "      <td>0.70</td>\n",
              "      <td>28.08</td>\n",
              "      <td>872.0</td>\n",
              "      <td>6900</td>\n",
              "      <td>44</td>\n",
              "      <td>0.0</td>\n",
              "      <td>0</td>\n",
              "      <td>0</td>\n",
              "      <td>57.5</td>\n",
              "      <td>0.721126957</td>\n",
              "    </tr>\n",
              "    <tr>\n",
              "      <th>...</th>\n",
              "      <td>...</td>\n",
              "      <td>...</td>\n",
              "      <td>...</td>\n",
              "      <td>...</td>\n",
              "      <td>...</td>\n",
              "      <td>...</td>\n",
              "      <td>...</td>\n",
              "      <td>...</td>\n",
              "      <td>...</td>\n",
              "      <td>...</td>\n",
              "      <td>...</td>\n",
              "      <td>...</td>\n",
              "      <td>...</td>\n",
              "      <td>...</td>\n",
              "      <td>...</td>\n",
              "    </tr>\n",
              "    <tr>\n",
              "      <th>772</th>\n",
              "      <td>2/15/2015</td>\n",
              "      <td>Quarter3</td>\n",
              "      <td>sewing</td>\n",
              "      <td>Sunday</td>\n",
              "      <td>5</td>\n",
              "      <td>0.80</td>\n",
              "      <td>30.10</td>\n",
              "      <td>679.0</td>\n",
              "      <td>7140</td>\n",
              "      <td>0</td>\n",
              "      <td>0.0</td>\n",
              "      <td>0</td>\n",
              "      <td>0</td>\n",
              "      <td>59.5</td>\n",
              "      <td>0.722568627</td>\n",
              "    </tr>\n",
              "    <tr>\n",
              "      <th>780</th>\n",
              "      <td>2/15/2015</td>\n",
              "      <td>Quarter3</td>\n",
              "      <td>sewing</td>\n",
              "      <td>Sunday</td>\n",
              "      <td>4</td>\n",
              "      <td>0.75</td>\n",
              "      <td>30.10</td>\n",
              "      <td>919.0</td>\n",
              "      <td>7140</td>\n",
              "      <td>0</td>\n",
              "      <td>0.0</td>\n",
              "      <td>0</td>\n",
              "      <td>1</td>\n",
              "      <td>59.5</td>\n",
              "      <td>0.598627451</td>\n",
              "    </tr>\n",
              "    <tr>\n",
              "      <th>782</th>\n",
              "      <td>2/15/2015</td>\n",
              "      <td>Quarter3</td>\n",
              "      <td>sewing</td>\n",
              "      <td>Sunday</td>\n",
              "      <td>2</td>\n",
              "      <td>0.80</td>\n",
              "      <td>22.52</td>\n",
              "      <td>12.0</td>\n",
              "      <td>6900</td>\n",
              "      <td>0</td>\n",
              "      <td>0.0</td>\n",
              "      <td>0</td>\n",
              "      <td>0</td>\n",
              "      <td>57.5</td>\n",
              "      <td>0.432122899</td>\n",
              "    </tr>\n",
              "    <tr>\n",
              "      <th>847</th>\n",
              "      <td>2/19/2015</td>\n",
              "      <td>Quarter3</td>\n",
              "      <td>sewing</td>\n",
              "      <td>Thursday</td>\n",
              "      <td>4</td>\n",
              "      <td>0.80</td>\n",
              "      <td>30.10</td>\n",
              "      <td>859.0</td>\n",
              "      <td>7020</td>\n",
              "      <td>63</td>\n",
              "      <td>0.0</td>\n",
              "      <td>0</td>\n",
              "      <td>1</td>\n",
              "      <td>58.5</td>\n",
              "      <td>0.800094017</td>\n",
              "    </tr>\n",
              "    <tr>\n",
              "      <th>848</th>\n",
              "      <td>2/19/2015</td>\n",
              "      <td>Quarter3</td>\n",
              "      <td>sewing</td>\n",
              "      <td>Thursday</td>\n",
              "      <td>5</td>\n",
              "      <td>0.80</td>\n",
              "      <td>30.10</td>\n",
              "      <td>276.0</td>\n",
              "      <td>600</td>\n",
              "      <td>63</td>\n",
              "      <td>3.5</td>\n",
              "      <td>15</td>\n",
              "      <td>0</td>\n",
              "      <td>59.5</td>\n",
              "      <td>0.799982853</td>\n",
              "    </tr>\n",
              "  </tbody>\n",
              "</table>\n",
              "<p>140 rows × 15 columns</p>\n",
              "</div>"
            ],
            "text/plain": [
              "          date   quarter department       day  team  targeted_productivity  \\\n",
              "2    1/01/2015  Quarter1     sewing  Thursday    11                   0.80   \n",
              "3    1/01/2015  Quarter1     sewing  Thursday    12                   0.80   \n",
              "7    1/01/2015  Quarter1     sewing  Thursday     3                   0.75   \n",
              "9    1/01/2015  Quarter1     sewing  Thursday     1                   0.75   \n",
              "10   1/01/2015  Quarter1     sewing  Thursday     9                   0.70   \n",
              "..         ...       ...        ...       ...   ...                    ...   \n",
              "772  2/15/2015  Quarter3     sewing    Sunday     5                   0.80   \n",
              "780  2/15/2015  Quarter3     sewing    Sunday     4                   0.75   \n",
              "782  2/15/2015  Quarter3     sewing    Sunday     2                   0.80   \n",
              "847  2/19/2015  Quarter3     sewing  Thursday     4                   0.80   \n",
              "848  2/19/2015  Quarter3     sewing  Thursday     5                   0.80   \n",
              "\n",
              "       smv    wip  over_time  incentive  idle_time  idle_men  \\\n",
              "2    11.41  968.0       3660         50        0.0         0   \n",
              "3    11.41  968.0       3660         50        0.0         0   \n",
              "7    28.08  795.0       6900         45        0.0         0   \n",
              "9    28.08  681.0       6900         45        0.0         0   \n",
              "10   28.08  872.0       6900         44        0.0         0   \n",
              "..     ...    ...        ...        ...        ...       ...   \n",
              "772  30.10  679.0       7140          0        0.0         0   \n",
              "780  30.10  919.0       7140          0        0.0         0   \n",
              "782  22.52   12.0       6900          0        0.0         0   \n",
              "847  30.10  859.0       7020         63        0.0         0   \n",
              "848  30.10  276.0        600         63        3.5        15   \n",
              "\n",
              "     no_of_style_change  no_of_workers actual_productivity  \n",
              "2                     0           30.5         0.800570492  \n",
              "3                     0           30.5         0.800570492  \n",
              "7                     0           57.5         0.753683478  \n",
              "9                     0           57.5         0.750427826  \n",
              "10                    0           57.5         0.721126957  \n",
              "..                  ...            ...                 ...  \n",
              "772                   0           59.5         0.722568627  \n",
              "780                   1           59.5         0.598627451  \n",
              "782                   0           57.5         0.432122899  \n",
              "847                   1           58.5         0.800094017  \n",
              "848                   0           59.5         0.799982853  \n",
              "\n",
              "[140 rows x 15 columns]"
            ]
          },
          "execution_count": 40,
          "metadata": {},
          "output_type": "execute_result"
        }
      ],
      "source": [
        "data_no_workers_decimal = data[data[\"no_of_workers\"].apply(lambda x: isinstance(x,float) and x !=0 and x % 1 != 0)]\n",
        "data_no_workers_decimal"
      ]
    },
    {
      "cell_type": "code",
      "execution_count": 41,
      "metadata": {
        "colab": {
          "base_uri": "https://localhost:8080/",
          "height": 206
        },
        "id": "Gu_ugL-p1RCz",
        "outputId": "275f4741-4a4c-4d44-ac74-9db8d75ed0d8"
      },
      "outputs": [
        {
          "data": {
            "text/html": [
              "<div>\n",
              "<style scoped>\n",
              "    .dataframe tbody tr th:only-of-type {\n",
              "        vertical-align: middle;\n",
              "    }\n",
              "\n",
              "    .dataframe tbody tr th {\n",
              "        vertical-align: top;\n",
              "    }\n",
              "\n",
              "    .dataframe thead th {\n",
              "        text-align: right;\n",
              "    }\n",
              "</style>\n",
              "<table border=\"1\" class=\"dataframe\">\n",
              "  <thead>\n",
              "    <tr style=\"text-align: right;\">\n",
              "      <th></th>\n",
              "      <th>date</th>\n",
              "      <th>quarter</th>\n",
              "      <th>department</th>\n",
              "      <th>day</th>\n",
              "      <th>team</th>\n",
              "      <th>targeted_productivity</th>\n",
              "      <th>smv</th>\n",
              "      <th>wip</th>\n",
              "      <th>over_time</th>\n",
              "      <th>incentive</th>\n",
              "      <th>idle_time</th>\n",
              "      <th>idle_men</th>\n",
              "      <th>no_of_style_change</th>\n",
              "      <th>no_of_workers</th>\n",
              "      <th>actual_productivity</th>\n",
              "    </tr>\n",
              "  </thead>\n",
              "  <tbody>\n",
              "    <tr>\n",
              "      <th>0</th>\n",
              "      <td>1/01/2015</td>\n",
              "      <td>Quarter1</td>\n",
              "      <td>sewing</td>\n",
              "      <td>Thursday</td>\n",
              "      <td>8</td>\n",
              "      <td>0.80</td>\n",
              "      <td>26.16</td>\n",
              "      <td>1108.0</td>\n",
              "      <td>7080</td>\n",
              "      <td>98</td>\n",
              "      <td>0.0</td>\n",
              "      <td>0</td>\n",
              "      <td>0</td>\n",
              "      <td>59.0</td>\n",
              "      <td>0.940725424</td>\n",
              "    </tr>\n",
              "    <tr>\n",
              "      <th>1</th>\n",
              "      <td>1/01/2015</td>\n",
              "      <td>Quarter1</td>\n",
              "      <td>finishing</td>\n",
              "      <td>Thursday</td>\n",
              "      <td>1</td>\n",
              "      <td>0.75</td>\n",
              "      <td>3.94</td>\n",
              "      <td>0.0</td>\n",
              "      <td>960</td>\n",
              "      <td>0</td>\n",
              "      <td>0.0</td>\n",
              "      <td>0</td>\n",
              "      <td>0</td>\n",
              "      <td>8.0</td>\n",
              "      <td>0.8865</td>\n",
              "    </tr>\n",
              "    <tr>\n",
              "      <th>2</th>\n",
              "      <td>1/01/2015</td>\n",
              "      <td>Quarter1</td>\n",
              "      <td>sewing</td>\n",
              "      <td>Thursday</td>\n",
              "      <td>11</td>\n",
              "      <td>0.80</td>\n",
              "      <td>11.41</td>\n",
              "      <td>968.0</td>\n",
              "      <td>3660</td>\n",
              "      <td>50</td>\n",
              "      <td>0.0</td>\n",
              "      <td>0</td>\n",
              "      <td>0</td>\n",
              "      <td>30.0</td>\n",
              "      <td>0.800570492</td>\n",
              "    </tr>\n",
              "    <tr>\n",
              "      <th>3</th>\n",
              "      <td>1/01/2015</td>\n",
              "      <td>Quarter1</td>\n",
              "      <td>sewing</td>\n",
              "      <td>Thursday</td>\n",
              "      <td>12</td>\n",
              "      <td>0.80</td>\n",
              "      <td>11.41</td>\n",
              "      <td>968.0</td>\n",
              "      <td>3660</td>\n",
              "      <td>50</td>\n",
              "      <td>0.0</td>\n",
              "      <td>0</td>\n",
              "      <td>0</td>\n",
              "      <td>30.0</td>\n",
              "      <td>0.800570492</td>\n",
              "    </tr>\n",
              "    <tr>\n",
              "      <th>4</th>\n",
              "      <td>1/01/2015</td>\n",
              "      <td>Quarter1</td>\n",
              "      <td>sewing</td>\n",
              "      <td>Thursday</td>\n",
              "      <td>6</td>\n",
              "      <td>0.80</td>\n",
              "      <td>25.90</td>\n",
              "      <td>1170.0</td>\n",
              "      <td>1920</td>\n",
              "      <td>50</td>\n",
              "      <td>0.0</td>\n",
              "      <td>0</td>\n",
              "      <td>0</td>\n",
              "      <td>56.0</td>\n",
              "      <td>0.800381944</td>\n",
              "    </tr>\n",
              "  </tbody>\n",
              "</table>\n",
              "</div>"
            ],
            "text/plain": [
              "        date   quarter department       day  team  targeted_productivity  \\\n",
              "0  1/01/2015  Quarter1     sewing  Thursday     8                   0.80   \n",
              "1  1/01/2015  Quarter1  finishing  Thursday     1                   0.75   \n",
              "2  1/01/2015  Quarter1     sewing  Thursday    11                   0.80   \n",
              "3  1/01/2015  Quarter1     sewing  Thursday    12                   0.80   \n",
              "4  1/01/2015  Quarter1     sewing  Thursday     6                   0.80   \n",
              "\n",
              "     smv     wip  over_time  incentive  idle_time  idle_men  \\\n",
              "0  26.16  1108.0       7080         98        0.0         0   \n",
              "1   3.94     0.0        960          0        0.0         0   \n",
              "2  11.41   968.0       3660         50        0.0         0   \n",
              "3  11.41   968.0       3660         50        0.0         0   \n",
              "4  25.90  1170.0       1920         50        0.0         0   \n",
              "\n",
              "   no_of_style_change  no_of_workers actual_productivity  \n",
              "0                   0           59.0         0.940725424  \n",
              "1                   0            8.0              0.8865  \n",
              "2                   0           30.0         0.800570492  \n",
              "3                   0           30.0         0.800570492  \n",
              "4                   0           56.0         0.800381944  "
            ]
          },
          "execution_count": 41,
          "metadata": {},
          "output_type": "execute_result"
        }
      ],
      "source": [
        "data['no_of_workers'] = round(data['no_of_workers'])\n",
        "\n",
        "data.head()"
      ]
    },
    {
      "cell_type": "markdown",
      "metadata": {},
      "source": [
        "Tambien encontramos que la variable de productividad real esta en formato de object, lo cual es incorrecto ya que deberia de ser un formato de decimales, por lo cual haremos ese cambio."
      ]
    },
    {
      "cell_type": "markdown",
      "metadata": {},
      "source": [
        "Adicionalmente se uso como separador de miles el \".\". Sin embargo, para pandas este es el separador decimal, entonces lazaba un error al convertir a numeric entonces se hizo coearce para convertirlos a NaN. A continuación, se muestran estos datos que no se pudieron parse porque tenian comos separador de miles \".\", por lo tanto lo tomaba como un string."
      ]
    },
    {
      "cell_type": "code",
      "execution_count": 42,
      "metadata": {},
      "outputs": [
        {
          "data": {
            "text/plain": [
              "337    1.033.570.076\n",
              "437    1.059.621.212\n",
              "456    1.000.230.409\n",
              "457    1.000.230.409\n",
              "477    1.000.230.409\n",
              "478    1.000.230.409\n",
              "498    1.000.230.409\n",
              "518    1.000.457.471\n",
              "519    1.000.230.409\n",
              "542       10.115.625\n",
              "Name: actual_productivity, dtype: object"
            ]
          },
          "execution_count": 42,
          "metadata": {},
          "output_type": "execute_result"
        }
      ],
      "source": [
        "problem_acutal_productivity_decimal = data[data[\"actual_productivity\"].str.count(\"\\.\") > 1]\n",
        "problem_acutal_productivity_decimal[\"actual_productivity\"].head(10)"
      ]
    },
    {
      "cell_type": "code",
      "execution_count": 43,
      "metadata": {},
      "outputs": [],
      "source": [
        "data['actual_productivity'] = pd.to_numeric(data['actual_productivity'], errors='coerce')\n",
        "#data['actual_productivity'].fillna(0, inplace=True)"
      ]
    },
    {
      "cell_type": "code",
      "execution_count": 44,
      "metadata": {},
      "outputs": [
        {
          "name": "stdout",
          "output_type": "stream",
          "text": [
            "Cantidad de datos NAs: 36\n",
            "(1161, 15)\n"
          ]
        }
      ],
      "source": [
        "actual_productivity_NAs = data['actual_productivity'].isna().sum()\n",
        "print(f'Cantidad de datos NAs: {actual_productivity_NAs}')\n",
        "\n",
        "data = data.dropna(subset=[\"actual_productivity\"])\n",
        "print(data.shape)\n"
      ]
    },
    {
      "cell_type": "markdown",
      "metadata": {},
      "source": [
        "Ademas se reviso si habian datos de \"actual_produtivity\" que no estuvieran dentro del intervalo $0 \\leq x_i \\leq 1,  \\forall i \\in n$ "
      ]
    },
    {
      "cell_type": "code",
      "execution_count": 45,
      "metadata": {},
      "outputs": [
        {
          "data": {
            "text/html": [
              "<div>\n",
              "<style scoped>\n",
              "    .dataframe tbody tr th:only-of-type {\n",
              "        vertical-align: middle;\n",
              "    }\n",
              "\n",
              "    .dataframe tbody tr th {\n",
              "        vertical-align: top;\n",
              "    }\n",
              "\n",
              "    .dataframe thead th {\n",
              "        text-align: right;\n",
              "    }\n",
              "</style>\n",
              "<table border=\"1\" class=\"dataframe\">\n",
              "  <thead>\n",
              "    <tr style=\"text-align: right;\">\n",
              "      <th></th>\n",
              "      <th>date</th>\n",
              "      <th>quarter</th>\n",
              "      <th>department</th>\n",
              "      <th>day</th>\n",
              "      <th>team</th>\n",
              "      <th>targeted_productivity</th>\n",
              "      <th>smv</th>\n",
              "      <th>wip</th>\n",
              "      <th>over_time</th>\n",
              "      <th>incentive</th>\n",
              "      <th>idle_time</th>\n",
              "      <th>idle_men</th>\n",
              "      <th>no_of_style_change</th>\n",
              "      <th>no_of_workers</th>\n",
              "      <th>actual_productivity</th>\n",
              "    </tr>\n",
              "  </thead>\n",
              "  <tbody>\n",
              "    <tr>\n",
              "      <th>712</th>\n",
              "      <td>2/11/2015</td>\n",
              "      <td>Quarter2</td>\n",
              "      <td>finishing</td>\n",
              "      <td>Wednesday</td>\n",
              "      <td>12</td>\n",
              "      <td>0.8</td>\n",
              "      <td>4.08</td>\n",
              "      <td>0.0</td>\n",
              "      <td>1080</td>\n",
              "      <td>0</td>\n",
              "      <td>0.0</td>\n",
              "      <td>0</td>\n",
              "      <td>0</td>\n",
              "      <td>9.0</td>\n",
              "      <td>1.02</td>\n",
              "    </tr>\n",
              "  </tbody>\n",
              "</table>\n",
              "</div>"
            ],
            "text/plain": [
              "          date   quarter department        day  team  targeted_productivity  \\\n",
              "712  2/11/2015  Quarter2  finishing  Wednesday    12                    0.8   \n",
              "\n",
              "      smv  wip  over_time  incentive  idle_time  idle_men  no_of_style_change  \\\n",
              "712  4.08  0.0       1080          0        0.0         0                   0   \n",
              "\n",
              "     no_of_workers  actual_productivity  \n",
              "712            9.0                 1.02  "
            ]
          },
          "execution_count": 45,
          "metadata": {},
          "output_type": "execute_result"
        }
      ],
      "source": [
        "problema_actual_productivity_fuera_range = data[(data[\"actual_productivity\"] < 0) | (data[\"actual_productivity\"] > 1)]\n",
        "problema_actual_productivity_fuera_range"
      ]
    },
    {
      "cell_type": "code",
      "execution_count": 46,
      "metadata": {},
      "outputs": [],
      "source": [
        "data = data.drop(problema_actual_productivity_fuera_range.index)"
      ]
    },
    {
      "cell_type": "code",
      "execution_count": 47,
      "metadata": {},
      "outputs": [
        {
          "data": {
            "text/plain": [
              "(1160, 15)"
            ]
          },
          "execution_count": 47,
          "metadata": {},
          "output_type": "execute_result"
        }
      ],
      "source": [
        "data.shape"
      ]
    },
    {
      "cell_type": "markdown",
      "metadata": {
        "id": "7J6B-h4H2gT5"
      },
      "source": [
        "Tambien ya se reviso y no se encontraron valores negativos en las columnas donde no deberían existir (como SMV, WIP, tiempo extra, incentivos, etc.)."
      ]
    },
    {
      "cell_type": "markdown",
      "metadata": {
        "id": "uwqasQkk20Fa"
      },
      "source": [
        "Conforme a datos duplicados solo encontramos que hay varias entradas duplicadas en cuanto a la combinación de fecha y equipo. Esto podría ser un error si no deberían existir múltiples registros por equipo en el mismo día, pero al no saber con exactitud como maneja este aspecto la empresa con la que trabajamos, ignoraremos o aceptaremos que hayan dichos datos duplicados ya que asumimos que un solo equipo puede tener varios trabajos en un solo día."
      ]
    },
    {
      "cell_type": "markdown",
      "metadata": {
        "id": "gdpkCR3atUM3"
      },
      "source": [
        "## **Tarea 3**\n",
        "Realice un analisis exploratorio que permita describir estadıstica y visualmente el\n",
        "comportamiento de las variables a considerar. Calcule estadısticas descriptivas, realice\n",
        "histogramas, diagramas de caja, diagramas de dispersion, diagramas de violın y otros que\n",
        "permitan comprender como se comportan las variables. Documente el analisis realizado.\n"
      ]
    },
    {
      "cell_type": "code",
      "execution_count": null,
      "metadata": {
        "id": "tS5D5F516ale"
      },
      "outputs": [],
      "source": []
    },
    {
      "cell_type": "markdown",
      "metadata": {
        "id": "Euq3Rq_L-qZK"
      },
      "source": [
        "## **Tarea 4**\n",
        "Aquı debera explorar los diferentes modelos y diferentes configuraciones de los mismos,\n",
        "realizar ingenierıa de caracterısticas (variables), emplear diferentes metodos de estimacion,\n",
        "comparar y seleccionar las mejores alternativas, considerando diferentes metricas. Consulte bibliografıa que le permita contar con elementos para proponer los modelos. No es\n",
        "necesario emplear todas las variables disponibles, pero todas las variables incluidas y sus\n",
        "relaciones deben estar correctamente justificadas. Como hay un buen numero de variables,\n",
        "se espera que el modelo desarrollado por cada equipo sea unico. Evalue su modelo usando\n",
        "metricas apropiadas. Documente el modelamiento realizado.\n"
      ]
    },
    {
      "cell_type": "code",
      "execution_count": null,
      "metadata": {
        "id": "S98zHll8_Jtq"
      },
      "outputs": [],
      "source": []
    }
  ],
  "metadata": {
    "colab": {
      "provenance": []
    },
    "kernelspec": {
      "display_name": "venv.AC",
      "language": "python",
      "name": "python3"
    },
    "language_info": {
      "codemirror_mode": {
        "name": "ipython",
        "version": 3
      },
      "file_extension": ".py",
      "mimetype": "text/x-python",
      "name": "python",
      "nbconvert_exporter": "python",
      "pygments_lexer": "ipython3",
      "version": "3.11.5"
    }
  },
  "nbformat": 4,
  "nbformat_minor": 0
}
